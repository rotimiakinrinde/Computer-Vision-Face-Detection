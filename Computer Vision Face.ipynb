{
 "cells": [
  {
   "cell_type": "code",
   "execution_count": 3,
   "id": "a98998ee-760d-492f-970e-174ddacc97e9",
   "metadata": {},
   "outputs": [
    {
     "name": "stdout",
     "output_type": "stream",
     "text": [
      "Requirement already satisfied: opencv-python in c:\\users\\akinr\\anaconda3\\lib\\site-packages (4.11.0.86)\n",
      "Requirement already satisfied: numpy>=1.21.2 in c:\\users\\akinr\\anaconda3\\lib\\site-packages (from opencv-python) (1.26.4)\n"
     ]
    }
   ],
   "source": [
    "# Install Open-cv\n",
    "!pip install opencv-python"
   ]
  },
  {
   "cell_type": "code",
   "execution_count": 29,
   "id": "849d4280-9c83-4f6d-8c66-b06c57892dab",
   "metadata": {},
   "outputs": [],
   "source": [
    "# Import OpenCV Library\n",
    "import cv2"
   ]
  },
  {
   "cell_type": "code",
   "execution_count": 7,
   "id": "1fe92705-7e84-45bb-a177-707adff91f12",
   "metadata": {},
   "outputs": [],
   "source": [
    "# Leverage Haar-Cascade Classifier\n",
    "face_cascade = cv2.CascadeClassifier(cv2.data.haarcascades + \"haarcascade_frontalface_default.xml\")\n",
    "eye_cascade = cv2.CascadeClassifier(cv2.data.haarcascades + \"haarcascade_eye.xml\")\n",
    "smile_cascade = cv2.CascadeClassifier(cv2.data.haarcascades + \"haarcascade_smile.xml\")"
   ]
  },
  {
   "cell_type": "code",
   "execution_count": 31,
   "id": "463ec7c4-eafa-476e-a348-6c7b5c63ee02",
   "metadata": {},
   "outputs": [],
   "source": [
    "# Create a function that will detect the face\n",
    "def detect(gray, frame):\n",
    "    # Face Detection\n",
    "    face = face_cascade.detectMultiScale(gray, 1.3, 5)\n",
    "    for (x, y, w, h) in face:\n",
    "        cv2.rectangle(frame, (x,y), (x+w, y+h), (255, 0, 0), 3)\n",
    "        roi_gray = gray[y:y+h, x:x+w]\n",
    "        roi_color = frame[y:y+h, x:x+w]\n",
    "\n",
    "        # Eye Detection\n",
    "        eyes = eye_cascade.detectMultiScale(roi_gray, 1.1, 3)\n",
    "        for (ex, ey, ew, eh) in eyes:\n",
    "            cv2.rectangle(frame, (ex,ey), (ex+ew, ey+eh), (0, 100, 200), 2)\n",
    "        \n",
    "    # Smile Detection\n",
    "        smile = smile_cascade.detectMultiScale(roi_gray, 1.2, 10)\n",
    "        for (sx, sy, sw, sh) in smile:\n",
    "            cv2.rectangle(frame, (sx,sy), (sx+sw, sy+sh), (0, 200, 100), 2)\n",
    "    \n",
    "    return frame"
   ]
  },
  {
   "cell_type": "code",
   "execution_count": 33,
   "id": "a7c1ac92-adb3-49d0-aaa3-732d74be4ff8",
   "metadata": {},
   "outputs": [],
   "source": [
    "capture = cv2.VideoCapture(0) # 0 - Local Webcam and 1 - External Webcam\n",
    "\n",
    "while True:\n",
    "    _, frame = capture.read()\n",
    "    gray = cv2.cvtColor(frame, cv2.COLOR_BGR2GRAY)\n",
    "    canvas = detect(gray, frame)\n",
    "    cv2.imshow(\"Video\", canvas)\n",
    "    if cv2.waitKey(1) & 0xff == ord(\"q\"):\n",
    "        break\n",
    "capture.release()\n",
    "cv2.destroyAllWindows()"
   ]
  },
  {
   "cell_type": "code",
   "execution_count": 27,
   "id": "40418afe-ddbc-46cd-b6e8-532c16a8b043",
   "metadata": {},
   "outputs": [],
   "source": [
    "# For image Capture\n",
    "\n",
    "# Load the image instead of using VideoCapture\n",
    "image_path = r\"C:\\Users\\akinr\\Desktop\\10Analytics\\Python\\Com Vision trn\\Ronaldo.jpg\"\n",
    "frame = cv2.imread(image_path)\n",
    "\n",
    "# Check if the image is loaded correctly\n",
    "if frame is None:\n",
    "    print(\"Failed to load image. Please check the file path.\")\n",
    "else:\n",
    "    gray = cv2.cvtColor(frame, cv2.COLOR_BGR2GRAY)\n",
    "    canvas = detect(gray, frame)\n",
    "    \n",
    "    cv2.imshow(\"Image\", canvas)\n",
    "    cv2.waitKey(0)  # Wait indefinitely until a key is pressed\n",
    "    cv2.destroyAllWindows()\n"
   ]
  },
  {
   "cell_type": "code",
   "execution_count": null,
   "id": "5d1f2b6e-9763-49aa-ac96-4b08f052322b",
   "metadata": {},
   "outputs": [],
   "source": []
  }
 ],
 "metadata": {
  "kernelspec": {
   "display_name": "Python 3 (ipykernel)",
   "language": "python",
   "name": "python3"
  },
  "language_info": {
   "codemirror_mode": {
    "name": "ipython",
    "version": 3
   },
   "file_extension": ".py",
   "mimetype": "text/x-python",
   "name": "python",
   "nbconvert_exporter": "python",
   "pygments_lexer": "ipython3",
   "version": "3.12.3"
  }
 },
 "nbformat": 4,
 "nbformat_minor": 5
}
